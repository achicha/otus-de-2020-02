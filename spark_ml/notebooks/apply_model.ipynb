{
 "cells": [
  {
   "cell_type": "code",
   "execution_count": 1,
   "metadata": {},
   "outputs": [],
   "source": [
    "import org.apache.spark.sql.types.{StructType, StringType}\n",
    "import org.apache.spark.ml.{Pipeline, PipelineModel}\n",
    "import org.apache.spark.sql.functions._\n",
    "import org.apache.spark.sql.DataFrame"
   ]
  },
  {
   "cell_type": "code",
   "execution_count": 2,
   "metadata": {},
   "outputs": [
    {
     "name": "stdout",
     "output_type": "stream",
     "text": [
      "Current spark version is 2.4.5\n"
     ]
    }
   ],
   "source": [
    "println(s\"Current spark version is ${spark.version}\")"
   ]
  },
  {
   "cell_type": "code",
   "execution_count": 3,
   "metadata": {},
   "outputs": [
    {
     "data": {
      "text/plain": [
       "inputStreamPath = ./data/events-stream\n",
       "modelPath = ./models/spark-ml-model\n",
       "dataSchema = StructType(StructField(tweet,StringType,true))\n",
       "inputDF = [tweet: string]\n"
      ]
     },
     "metadata": {},
     "output_type": "display_data",
     "source": "user"
    },
    {
     "data": {
      "text/plain": [
       "[tweet: string]"
      ]
     },
     "execution_count": 3,
     "metadata": {},
     "output_type": "execute_result"
    }
   ],
   "source": [
    "val inputStreamPath = \"./data/events-stream\"\n",
    "val modelPath = \"./models/spark-ml-model\"\n",
    "\n",
    "val dataSchema = new StructType()\n",
    "    .add(\"tweet\", StringType)\n",
    "\n",
    "val inputDF = spark\n",
    "    .readStream\n",
    "    .schema(dataSchema)\n",
    "    .option(\"maxFilesPerTrigger\", 1)\n",
    "    .json(inputStreamPath)"
   ]
  },
  {
   "cell_type": "code",
   "execution_count": 4,
   "metadata": {},
   "outputs": [
    {
     "data": {
      "text/plain": [
       "myModel = pipeline_e1c3d5ad6049\n"
      ]
     },
     "metadata": {},
     "output_type": "display_data",
     "source": "user"
    },
    {
     "data": {
      "text/plain": [
       "org.apache.spark.sql.execution.streaming.StreamingQueryWrapper@37c4e9f8"
      ]
     },
     "execution_count": 4,
     "metadata": {},
     "output_type": "execute_result"
    },
    {
     "name": "stdout",
     "output_type": "stream",
     "text": [
      "+--------------------+-------------------+\n",
      "|               tweet|  clean_probability|\n",
      "+--------------------+-------------------+\n",
      "|Doing nothing tod...|0.44577385267091846|\n",
      "|Pissed that twitp...|0.44577385267091846|\n",
      "|my wifi isnt work...| 0.5041568910120379|\n",
      "|come on... drop b...| 0.5177776891306454|\n",
      "|@iLeoCastro  I'm ...| 0.5041568910120379|\n",
      "|The CD drive isn'...|0.44577385267091846|\n",
      "|@suziam not sure ...|0.46957254331679155|\n",
      "|did a jeaga bomb ...| 0.5041568910120379|\n",
      "|Please subscribe ...| 0.5870866341203763|\n",
      "|is discussing bll...| 0.5041568910120379|\n",
      "|#3turnoffwords gr...| 0.5177776891306454|\n",
      "|         Follow ME! | 0.5041568910120379|\n",
      "|Watched MTV award...| 0.5713927240888151|\n",
      "|@mileycyrus http:...| 0.5428149328654575|\n",
      "|    uqhh ii want DD |0.44577385267091846|\n",
      "|@brennybeee aw im...|  0.451571725910382|\n",
      "|I want a orange s...| 0.5426401961604143|\n",
      "|@mrscabeen One of...| 0.5041568910120379|\n",
      "+--------------------+-------------------+\n",
      "\n",
      "+--------------------+------------------+\n",
      "|               tweet| clean_probability|\n",
      "+--------------------+------------------+\n",
      "|@vinnyvero aw...n...|0.5041568910120379|\n",
      "|@Gawge Ah damn. N...|0.5166417170543628|\n",
      "|finally found out...|0.5148253534554437|\n",
      "|@sydentherese WHO...|0.5713927240888151|\n",
      "|@officialmila I k...|0.4893362951566574|\n",
      "|Saying Hi to my o...|0.5576232155652705|\n",
      "|Just another coin...|0.5041568910120379|\n",
      "|@UrbanAZcom not a...|0.5713927240888151|\n",
      "|excited that last...|0.5207555915846781|\n",
      "+--------------------+------------------+\n",
      "\n",
      "+--------------------+-------------------+\n",
      "|               tweet|  clean_probability|\n",
      "+--------------------+-------------------+\n",
      "|@ChrisGBaillie  i...| 0.4361857784346734|\n",
      "|@endamaria I'm go...| 0.5064250217070623|\n",
      "|Bowel prep starts...| 0.5148253534554437|\n",
      "|wants to go to th...| 0.5041568910120379|\n",
      "|@thedirtymartini ...| 0.5041568910120379|\n",
      "|says im hungry, i...| 0.5177776891306454|\n",
      "|is still confused...| 0.5125188254223277|\n",
      "|well it's been th...| 0.5428149328654575|\n",
      "|@nortyuk I bet it...|0.47289732014947783|\n",
      "|I'm so happy I do...| 0.4480248860760018|\n",
      "|Thanks for all th...| 0.5713927240888151|\n",
      "+--------------------+-------------------+\n",
      "\n",
      "+--------------------+-------------------+\n",
      "|               tweet|  clean_probability|\n",
      "+--------------------+-------------------+\n",
      "|Got wendy's inste...| 0.5041568910120379|\n",
      "|@SolematesChi  i ...| 0.5187032927704358|\n",
      "|Internet won't be...| 0.5041568910120379|\n",
      "|@mattyblaw i wasn...| 0.4941642597162318|\n",
      "|Uh oh. Low battery. | 0.5041568910120379|\n",
      "|sigh  could thing...| 0.5041568910120379|\n",
      "|@ShaddixXx Awsome...| 0.5041568910120379|\n",
      "|@BrokenBritain 4h...| 0.5177776891306454|\n",
      "|@leebutts it's st...| 0.4874815816875156|\n",
      "|has found out tha...|0.49288313499103753|\n",
      "|@BlokesLib hand j...| 0.5041568910120379|\n",
      "|@BMolko I'm drink...| 0.5713927240888151|\n",
      "|Taylor's sister's...| 0.5041568910120379|\n",
      "|Frankie Jonas - M...|0.47406089592128103|\n",
      "|Richard the racis...| 0.5041568910120379|\n",
      "|@BigEyedFisch yes...| 0.5041568910120379|\n",
      "+--------------------+-------------------+\n",
      "\n",
      "+--------------------+-------------------+\n",
      "|               tweet|  clean_probability|\n",
      "+--------------------+-------------------+\n",
      "|@realchrissystar ...| 0.5148253534554437|\n",
      "|@michellegazzana ...|  0.511262521557113|\n",
      "|Have somebody ins...| 0.5041568910120379|\n",
      "|car shopping... d...| 0.5041568910120379|\n",
      "|crazy busy week.g...| 0.5041568910120379|\n",
      "|@iamarkus yea. I ...| 0.5041568910120379|\n",
      "|Clueless about Op...| 0.5041568910120379|\n",
      "|vimeo is saying 4...| 0.4874815816875156|\n",
      "|Atlantis Unleashe...| 0.5041568910120379|\n",
      "|Wow. That last pa...| 0.5041568910120379|\n",
      "|So sad will didn'...|0.46957254331679155|\n",
      "|@tothemattresses ...| 0.5041568910120379|\n",
      "|@hanako66 hey lad...| 0.5173561890996816|\n",
      "|Still haven't bre...|0.47371207316397096|\n",
      "|Live #joomla usab...|0.49288313499103753|\n",
      "|@swfgeek - yeah I...| 0.5194075435632942|\n",
      "|http://twitpic.co...| 0.5177776891306454|\n",
      "|Lunchtime! TGIF, ...| 0.5069559819997912|\n",
      "|twitter break :] ...| 0.5041568910120379|\n",
      "|@officialTila  Yo...| 0.5041568910120379|\n",
      "+--------------------+-------------------+\n",
      "only showing top 20 rows\n",
      "\n",
      "+--------------------+-------------------+\n",
      "|               tweet|  clean_probability|\n",
      "+--------------------+-------------------+\n",
      "|@cfdj71 @Lollyjay...| 0.5148253534554437|\n",
      "|Going to smoke a ...| 0.5217610882380483|\n",
      "|Just dropped and ...| 0.5041568910120379|\n",
      "|@RyanMatsuflex i ...| 0.5041568910120379|\n",
      "|    revision 09 ... | 0.5041568910120379|\n",
      "|@csauto I am sorr...| 0.5041568910120379|\n",
      "|@tommcfly brazili...| 0.5041568910120379|\n",
      "|@dannywood It's h...| 0.5173561890996816|\n",
      "|It's really going...| 0.5041568910120379|\n",
      "|@molskee Really? ...| 0.5041568910120379|\n",
      "|50 first dates' s...|0.38452607552007245|\n",
      "|@Bellovski I know...| 0.5041568910120379|\n",
      "|Yay for a weekend...| 0.5041568910120379|\n",
      "|ok have to go and...| 0.5041568910120379|\n",
      "|singles finals to...| 0.5041568910120379|\n",
      "|@sam_h786 just go...|0.48666751958779547|\n",
      "|@hollymadison123 ...| 0.5041568910120379|\n",
      "|@kristenstewart9 ...| 0.5177776891306454|\n",
      "|@AreloZ Thanks.  ...| 0.5713927240888151|\n",
      "+--------------------+-------------------+\n",
      "\n",
      "+--------------------+-------------------+\n",
      "|               tweet|  clean_probability|\n",
      "+--------------------+-------------------+\n",
      "|   lost first game. | 0.4779801678369047|\n",
      "|@AOTS Just got ho...| 0.4941642597162318|\n",
      "|@sweet_kiwi57 hmm...|0.46284548193138236|\n",
      "|   @readingthisbook | 0.5041568910120379|\n",
      "|good morning; get...|0.48666751958779547|\n",
      "|Watching baseball...| 0.5041568910120379|\n",
      "|@tiffanyblews hav...| 0.5041568910120379|\n",
      "|@__djenilin No, y...| 0.5041568910120379|\n",
      "|Why do i have to ...|0.46957254331679155|\n",
      "|thanks for the #F...| 0.5713927240888151|\n",
      "|@andrewmoore24 i'...| 0.5041568910120379|\n",
      "|making out with d...|0.46971820455261104|\n",
      "|@webmage OK, WebM...| 0.5734658360017689|\n",
      "+--------------------+-------------------+\n",
      "\n",
      "+--------------------+-------------------+\n",
      "|               tweet|  clean_probability|\n",
      "+--------------------+-------------------+\n",
      "|Just got off the ...| 0.5473214303492702|\n",
      "|@mzmonalisa alway...|0.46957254331679155|\n",
      "|@hsabomilner That...| 0.5041568910120379|\n",
      "|@mikestanley88 wh...| 0.5041568910120379|\n",
      "|PRETTI'BROWN EYEZ...|0.44577385267091846|\n",
      "|@justinjagged hah...| 0.4549956809317857|\n",
      "|@lulu1818 so clos...| 0.5041568910120379|\n",
      "|omg ahhaha  I rea...|0.47851458802580327|\n",
      "| @heatherkeido LOL! | 0.5148253534554437|\n",
      "|@KristinFisher Co...| 0.4933351838811838|\n",
      "|waiting for our a...| 0.5041568910120379|\n",
      "+--------------------+-------------------+\n",
      "\n"
     ]
    }
   ],
   "source": [
    "val myModel = PipelineModel.load(\"./models/spark-ml-model\")\n",
    "\n",
    "inputDF.writeStream.foreachBatch { (batchDF: DataFrame, batchId: Long) =>\n",
    "\n",
    "    val predictionsDF = myModel.transform(batchDF)\n",
    "    val getProbability = udf((prediction: org.apache.spark.ml.linalg.Vector) => prediction(1))\n",
    "    predictionsDF.select($\"tweet\", getProbability($\"probability\").alias(\"clean_probability\")).show\n",
    "    \n",
    "}.start()"
   ]
  },
  {
   "cell_type": "code",
   "execution_count": null,
   "metadata": {},
   "outputs": [],
   "source": []
  },
  {
   "cell_type": "code",
   "execution_count": null,
   "metadata": {
    "scrolled": true
   },
   "outputs": [],
   "source": []
  }
 ],
 "metadata": {
  "kernelspec": {
   "display_name": "Apache Toree - Scala",
   "language": "scala",
   "name": "apache_toree_scala"
  },
  "language_info": {
   "codemirror_mode": "text/x-scala",
   "file_extension": ".scala",
   "mimetype": "text/x-scala",
   "name": "scala",
   "pygments_lexer": "scala",
   "version": "2.11.12"
  }
 },
 "nbformat": 4,
 "nbformat_minor": 4
}
